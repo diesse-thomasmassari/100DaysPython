{
  "nbformat": 4,
  "nbformat_minor": 0,
  "metadata": {
    "colab": {
      "provenance": [],
      "collapsed_sections": [],
      "authorship_tag": "ABX9TyOfdgt0Mfj1+3XhinAIo/++",
      "include_colab_link": true
    },
    "kernelspec": {
      "name": "python3",
      "display_name": "Python 3"
    },
    "language_info": {
      "name": "python"
    }
  },
  "cells": [
    {
      "cell_type": "markdown",
      "metadata": {
        "id": "view-in-github",
        "colab_type": "text"
      },
      "source": [
        "<a href=\"https://colab.research.google.com/github/diesse-thomasmassari/100DaysPython/blob/master/Day02.ipynb\" target=\"_parent\"><img src=\"https://colab.research.google.com/assets/colab-badge.svg\" alt=\"Open In Colab\"/></a>"
      ]
    },
    {
      "cell_type": "markdown",
      "source": [
        "# Day 2 - Beginner - Understanding Data Types and How to Manipulate Strings\n"
      ],
      "metadata": {
        "id": "x2afPDdF4iCc"
      }
    },
    {
      "cell_type": "markdown",
      "source": [
        "### Python Primitive Data Types\n",
        "\n",
        "\n",
        "*   String\n",
        "*   Integer\n",
        "*   Float\n",
        "*   Boolean\n"
      ],
      "metadata": {
        "id": "9LJ-88B9jQ3o"
      }
    },
    {
      "cell_type": "code",
      "source": [
        "# String\n",
        "string1 = \"Hello\"\n",
        "print(string1[0])\n",
        "# Integer\n",
        "integer = 5_000_753\n",
        "print(integer)\n",
        "# Float\n",
        "float_number = 3.14\n",
        "# Boolean\n",
        "boolean = True"
      ],
      "metadata": {
        "id": "1Xa6_bAYjaiv",
        "outputId": "38b7f70f-3755-4134-b28a-5b4a7dcba61b",
        "colab": {
          "base_uri": "https://localhost:8080/"
        }
      },
      "execution_count": 3,
      "outputs": [
        {
          "output_type": "stream",
          "name": "stdout",
          "text": [
            "H\n",
            "5000753\n"
          ]
        }
      ]
    },
    {
      "cell_type": "markdown",
      "source": [
        "### Type Error, Type Checking and Type Conversion\n",
        "---\n",
        "Per estrarre il tipo di formato di una variabile è sufficiente usare la funzione type, che come output fornisce la tipologia di variabile"
      ],
      "metadata": {
        "id": "ImatYMp-mleb"
      }
    },
    {
      "cell_type": "code",
      "source": [
        "# Type checking\n",
        "var1 = \"hello\"\n",
        "var2 = 56\n",
        "print(type(var1))\n",
        "print(type(var2))\n",
        "\n",
        "# Type conversion\n",
        "print(type(str(var2)))\n",
        "print(type(float(var2)))\n",
        "print(type(int(var2)))"
      ],
      "metadata": {
        "id": "TH_cjt1YnFII",
        "outputId": "8f3fa955-3218-48a2-bd9a-c538e06d4b47",
        "colab": {
          "base_uri": "https://localhost:8080/"
        }
      },
      "execution_count": 8,
      "outputs": [
        {
          "output_type": "stream",
          "name": "stdout",
          "text": [
            "<class 'str'>\n",
            "<class 'int'>\n",
            "<class 'str'>\n",
            "<class 'float'>\n",
            "<class 'int'>\n"
          ]
        }
      ]
    },
    {
      "cell_type": "markdown",
      "source": [
        "### Excercise"
      ],
      "metadata": {
        "id": "R2XzIBnzpBJZ"
      }
    },
    {
      "cell_type": "code",
      "source": [
        "# 🚨 Don't change the code below 👇\n",
        "two_digit_number = input(\"Type a two digit number: \")\n",
        "# 🚨 Don't change the code above 👆\n",
        "\n",
        "####################################\n",
        "#Write your code below this line 👇\n",
        "\n",
        "print(int(two_digit_number[0]) + int(two_digit_number[1]))\n",
        "\n",
        "\n",
        "\n",
        "\n",
        "\n"
      ],
      "metadata": {
        "id": "Dv6SyWKIpBfH",
        "outputId": "acd9c6d1-4ddf-4918-f3e4-005535cda721",
        "colab": {
          "base_uri": "https://localhost:8080/"
        }
      },
      "execution_count": 12,
      "outputs": [
        {
          "output_type": "stream",
          "name": "stdout",
          "text": [
            "Type a two digit number: 39\n",
            "12\n"
          ]
        }
      ]
    },
    {
      "cell_type": "markdown",
      "source": [
        "### Mathematical Operations in Python"
      ],
      "metadata": {
        "id": "rd8640cEqKnu"
      }
    },
    {
      "cell_type": "code",
      "source": [
        "# Somma\n",
        "print(3 + 5)\n",
        "# Differenza\n",
        "print(4 - 1)\n",
        "# Moltiplicazione\n",
        "print(4 * 9)\n",
        "# Divisione\n",
        "print(8 / 3)\n",
        "# Esponenziale\n",
        "print(2 ** 2)\n",
        "# Floor division -> restituisce parte intera del numero, lasciando indietro la parte decimale\n",
        "print(8 // 3)"
      ],
      "metadata": {
        "id": "HHDU5YJkqNau",
        "outputId": "c8f4bef1-ec30-44cb-9d22-f4ec7f7122c5",
        "colab": {
          "base_uri": "https://localhost:8080/"
        }
      },
      "execution_count": 24,
      "outputs": [
        {
          "output_type": "stream",
          "name": "stdout",
          "text": [
            "8\n",
            "3\n",
            "36\n",
            "2.6666666666666665\n",
            "4\n",
            "2\n"
          ]
        }
      ]
    },
    {
      "cell_type": "markdown",
      "source": [
        "### Excercise"
      ],
      "metadata": {
        "id": "rphW_ECMrKIo"
      }
    },
    {
      "cell_type": "code",
      "source": [
        "# 🚨 Don't change the code below 👇\n",
        "height = input(\"enter your height in m: \")\n",
        "weight = input(\"enter your weight in kg: \")\n",
        "# 🚨 Don't change the code above 👆\n",
        "\n",
        "# Write your code below this line 👇\n",
        "BMI = float(weight) / (float(height) ** 2)\n",
        "print(int(BMI))"
      ],
      "metadata": {
        "id": "KbpWZafarM_a",
        "outputId": "a87ff5da-e125-4811-a34f-49c0b05824e6",
        "colab": {
          "base_uri": "https://localhost:8080/"
        }
      },
      "execution_count": 21,
      "outputs": [
        {
          "output_type": "stream",
          "name": "stdout",
          "text": [
            "enter your height in m: 1.75\n",
            "enter your weight in kg: 80\n",
            "26\n"
          ]
        }
      ]
    },
    {
      "cell_type": "markdown",
      "source": [
        "### Number Manipulation and F Strings in Python"
      ],
      "metadata": {
        "id": "-2umRXlYtCIW"
      }
    },
    {
      "cell_type": "code",
      "source": [
        "print(round(8 / 3, 2))\n",
        "score = 0\n",
        "score += 1 # Scorciatoia sintassi (valido per tutte le operazioni)\n",
        "print(score)\n",
        "\n",
        "# F-strings\n",
        "booleano = False\n",
        "print(f\"Prova naturale {score}, and {booleano}\")"
      ],
      "metadata": {
        "id": "lNVYJYVntD4O",
        "outputId": "77aa585c-bb91-48eb-e376-f3e9b4f7871f",
        "colab": {
          "base_uri": "https://localhost:8080/"
        }
      },
      "execution_count": 29,
      "outputs": [
        {
          "output_type": "stream",
          "name": "stdout",
          "text": [
            "2.67\n",
            "1\n",
            "Prova naturale 1, and False\n"
          ]
        }
      ]
    },
    {
      "cell_type": "markdown",
      "source": [
        "### Excecise"
      ],
      "metadata": {
        "id": "7LtS3CbLvdq5"
      }
    },
    {
      "cell_type": "code",
      "source": [
        "# 🚨 Don't change the code below 👇\n",
        "age = input(\"What is your current age? \")\n",
        "# 🚨 Don't change the code above 👆\n",
        "\n",
        "#Write your code below this line 👇\n",
        "age = int(age)\n",
        "days = (90 - age) * 365\n",
        "weeks = (90 - age) * 52\n",
        "months = (90 - age) * 12\n",
        "print(f\"You have {days} days, {weeks} weeks and {months} months left.\")"
      ],
      "metadata": {
        "id": "CzK774q8vgqR",
        "outputId": "98e825c5-0905-46cc-fe79-a4ebd7eaf068",
        "colab": {
          "base_uri": "https://localhost:8080/"
        }
      },
      "execution_count": 33,
      "outputs": [
        {
          "output_type": "stream",
          "name": "stdout",
          "text": [
            "What is your current age? 56\n",
            "You have 12410 days, 1768 weeks and 408 months left.\n"
          ]
        }
      ]
    },
    {
      "cell_type": "markdown",
      "source": [
        "### Final Excercise - Tip calculator"
      ],
      "metadata": {
        "id": "GZwsqxMqw5pi"
      }
    },
    {
      "cell_type": "code",
      "source": [
        "#If the bill was $150.00, split between 5 people, with 12% tip. \n",
        "\n",
        "#Each person should pay (150.00 / 5) * 1.12 = 33.6\n",
        "#Format the result to 2 decimal places = 33.60\n",
        "\n",
        "#Tip: There are 2 ways to round a number. You might have to do some Googling to solve this.💪\n",
        "\n",
        "#Write your code below this line 👇\n",
        "print(\"Welcome to the tip calculator\\n\")\n",
        "bill = float(input(\"What was the total bill? $\"))\n",
        "tip = int(input(\"What % tip would you like to give? \"))\n",
        "people = int(input(\"How many people to split the bull? \"))\n",
        "\n",
        "tot = bill + (bill * tip / 100)\n",
        "print(f\"Each persone should pay: ${round(float(tot / people), 2)}\")"
      ],
      "metadata": {
        "id": "fNoIxXuZw-v4",
        "outputId": "a0f0a937-4d35-42ec-923b-c5d0b50ded55",
        "colab": {
          "base_uri": "https://localhost:8080/"
        }
      },
      "execution_count": 38,
      "outputs": [
        {
          "output_type": "stream",
          "name": "stdout",
          "text": [
            "Welcome to the tip calculator\n",
            "\n",
            "What was the total bill? $124.56\n",
            "What % tip would you like to give? 12\n",
            "How many people to split the bull? 7\n",
            "Each persone should pay: $19.93\n"
          ]
        }
      ]
    }
  ]
}