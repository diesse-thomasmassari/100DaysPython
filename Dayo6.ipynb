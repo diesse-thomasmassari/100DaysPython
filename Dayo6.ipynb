{
  "nbformat": 4,
  "nbformat_minor": 0,
  "metadata": {
    "colab": {
      "provenance": [],
      "authorship_tag": "ABX9TyO1bYRHAdQaa34SuoO6hBM5",
      "include_colab_link": true
    },
    "kernelspec": {
      "name": "python3",
      "display_name": "Python 3"
    },
    "language_info": {
      "name": "python"
    }
  },
  "cells": [
    {
      "cell_type": "markdown",
      "metadata": {
        "id": "view-in-github",
        "colab_type": "text"
      },
      "source": [
        "<a href=\"https://colab.research.google.com/github/diesse-thomasmassari/100DaysPython/blob/master/Dayo6.ipynb\" target=\"_parent\"><img src=\"https://colab.research.google.com/assets/colab-badge.svg\" alt=\"Open In Colab\"/></a>"
      ]
    },
    {
      "cell_type": "markdown",
      "source": [
        "# 6. Day 6 - Beginner - Python Functions & Karel\n",
        "\n",
        "\n",
        "\n",
        "```\n",
        "def my_function():\n",
        "  # Do this\n",
        "\n",
        "\n",
        "while somthing_is_true:\n",
        "  # Do this\n",
        "```\n",
        "\n"
      ],
      "metadata": {
        "id": "946L4zG2n_Bz"
      }
    },
    {
      "cell_type": "code",
      "execution_count": null,
      "metadata": {
        "id": "FXda9v79n8c_"
      },
      "outputs": [],
      "source": []
    }
  ]
}