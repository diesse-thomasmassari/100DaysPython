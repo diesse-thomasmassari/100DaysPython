{
  "nbformat": 4,
  "nbformat_minor": 0,
  "metadata": {
    "colab": {
      "provenance": [],
      "authorship_tag": "ABX9TyOPGSz7PVOXcRy8COx0E15w",
      "include_colab_link": true
    },
    "kernelspec": {
      "name": "python3",
      "display_name": "Python 3"
    },
    "language_info": {
      "name": "python"
    }
  },
  "cells": [
    {
      "cell_type": "markdown",
      "metadata": {
        "id": "view-in-github",
        "colab_type": "text"
      },
      "source": [
        "<a href=\"https://colab.research.google.com/github/diesse-thomasmassari/100DaysPython/blob/master/Day04.ipynb\" target=\"_parent\"><img src=\"https://colab.research.google.com/assets/colab-badge.svg\" alt=\"Open In Colab\"/></a>"
      ]
    },
    {
      "cell_type": "markdown",
      "source": [
        "# Day 04 - Beginner - Randomisation and Python Lists"
      ],
      "metadata": {
        "id": "KW-zQ_iivdgL"
      }
    },
    {
      "cell_type": "markdown",
      "source": [
        "### Random module"
      ],
      "metadata": {
        "id": "FTVdYsCQpyEI"
      }
    },
    {
      "cell_type": "code",
      "execution_count": null,
      "metadata": {
        "id": "LeX2GQzBvZJU",
        "outputId": "8bda16f9-8fae-4478-e40a-e3781b2f146e",
        "colab": {
          "base_uri": "https://localhost:8080/"
        }
      },
      "outputs": [
        {
          "output_type": "stream",
          "name": "stdout",
          "text": [
            "1\n",
            "4.5\n"
          ]
        }
      ],
      "source": [
        "import random\n",
        "from google.colab import files\n",
        "import prova\n",
        "\n",
        "random_integer = random.randint(1, 10)\n",
        "print(random_integer)\n",
        "random_float = random.random()\n",
        "\n",
        "print(prova.pi)"
      ]
    },
    {
      "cell_type": "markdown",
      "source": [
        "### Coin tosser"
      ],
      "metadata": {
        "id": "Jq_0hVU1arCT"
      }
    },
    {
      "cell_type": "code",
      "source": [
        "import random\n",
        "\n",
        "random_side = random.randint(0, 1)\n",
        "if random_side == 1:\n",
        "  print(\"Heads\")\n",
        "else:\n",
        "  print(\"Tails\")"
      ],
      "metadata": {
        "id": "tIMjrbj-aunC",
        "outputId": "93337d8b-c591-4393-8e52-37187f0ffcc6",
        "colab": {
          "base_uri": "https://localhost:8080/"
        }
      },
      "execution_count": 1,
      "outputs": [
        {
          "output_type": "stream",
          "name": "stdout",
          "text": [
            "Heads\n"
          ]
        }
      ]
    },
    {
      "cell_type": "markdown",
      "source": [
        "### List\n",
        "`list = [element1, ..., elementx]`\n",
        "\n",
        "list[-1] = ultimo elemento\n",
        "\n",
        "list.append() add 1 element\n",
        "\n",
        "list.extend() add more elements \n",
        "\n",
        "### Nested List"
      ],
      "metadata": {
        "id": "BTJU6GhdbLVT"
      }
    },
    {
      "cell_type": "markdown",
      "source": [
        "### Final Project - Rock Paper Scissors"
      ],
      "metadata": {
        "id": "Qp0C5iiPTaz2"
      }
    },
    {
      "cell_type": "code",
      "source": [
        "import random\n",
        "import sys\n",
        "\n",
        "def convert2hand(choice):\n",
        "  if choice == 0:\n",
        "    print(rock)\n",
        "  elif choice == 1:\n",
        "    print(paper)\n",
        "  elif choice == 2:\n",
        "    print(scissors)\n",
        "\n",
        "rock = '''\n",
        "    _______\n",
        "---'   ____)\n",
        "      (_____)\n",
        "      (_____)\n",
        "      (____)\n",
        "---.__(___)\n",
        "'''\n",
        "\n",
        "paper = '''\n",
        "    _______\n",
        "---'   ____)____\n",
        "          ______)\n",
        "          _______)\n",
        "         _______)\n",
        "---.__________)\n",
        "'''\n",
        "\n",
        "scissors = '''\n",
        "    _______\n",
        "---'   ____)____\n",
        "          ______)\n",
        "       __________)\n",
        "      (____)\n",
        "---.__(___)\n",
        "'''\n",
        "\n",
        "#Write your code below this line 👇\n",
        "\n",
        "player_choice = int(input(f\"What do you choose? Type 0 for Rock, 1 for Paper or 2 for Scissors:\\n\"))\n",
        "\n",
        "convert2hand(player_choice)\n",
        "random_side = random.randint(0, 2)\n",
        "print(f\"Computer chose:\\n\")\n",
        "convert2hand(random_side)\n",
        "\n",
        "if player_choice == random_side:\n",
        "  print(\"Draw\")\n",
        "elif player_choice == 0 and random_side == 1:\n",
        "  print(\"You lose\")\n",
        "elif player_choice == 0 and random_side == 2:\n",
        "  print(\"You win\")\n",
        "elif player_choice == 1 and random_side == 0:\n",
        "  print(\"You win\")\n",
        "elif player_choice == 1 and random_side == 2:\n",
        "  print(\"You loose\")\n",
        "elif player_choice == 2 and random_side == 0:\n",
        "  print(\"You loose\")\n",
        "elif player_choice == 2 and random_side == 1:\n",
        "  print(\"You win\")\n",
        "\n",
        "\n"
      ],
      "metadata": {
        "id": "pBumJJOtT81a",
        "outputId": "8b292861-beef-46bb-ef9d-a0aff025ed0e",
        "colab": {
          "base_uri": "https://localhost:8080/"
        }
      },
      "execution_count": 25,
      "outputs": [
        {
          "output_type": "stream",
          "name": "stdout",
          "text": [
            "What do you choose? Type 0 for Rock, 1 for Paper or 2 for Scissors:\n",
            "1\n",
            "\n",
            "    _______\n",
            "---'   ____)____\n",
            "          ______)\n",
            "          _______)\n",
            "         _______)\n",
            "---.__________)\n",
            "\n",
            "Computer chose:\n",
            "\n",
            "\n",
            "    _______\n",
            "---'   ____)\n",
            "      (_____)\n",
            "      (_____)\n",
            "      (____)\n",
            "---.__(___)\n",
            "\n",
            "You win\n"
          ]
        }
      ]
    }
  ]
}