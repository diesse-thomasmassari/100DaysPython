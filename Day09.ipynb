{
  "nbformat": 4,
  "nbformat_minor": 0,
  "metadata": {
    "colab": {
      "provenance": [],
      "authorship_tag": "ABX9TyMA6pEUPcw5kzPhsQVy4Qbr",
      "include_colab_link": true
    },
    "kernelspec": {
      "name": "python3",
      "display_name": "Python 3"
    },
    "language_info": {
      "name": "python"
    }
  },
  "cells": [
    {
      "cell_type": "markdown",
      "metadata": {
        "id": "view-in-github",
        "colab_type": "text"
      },
      "source": [
        "<a href=\"https://colab.research.google.com/github/diesse-thomasmassari/100DaysPython/blob/master/Day09.ipynb\" target=\"_parent\"><img src=\"https://colab.research.google.com/assets/colab-badge.svg\" alt=\"Open In Colab\"/></a>"
      ]
    },
    {
      "cell_type": "markdown",
      "source": [
        "# Day 9 - Beginner - Dictionaries, Nesting and the Secret Auction\n",
        "\n",
        "### Dictionary\n",
        "\n",
        "\n",
        "```\n",
        "dictionary = {\n",
        "  \"Key\": \"Value\",\n",
        "  \"Key2\": \"Value2\",\n",
        "}\n",
        "\n",
        "# Retrieve items from dictionary\n",
        "dictionary[\"Key\"]\n",
        "\n",
        "# Add new item to dictionary\n",
        "dictionary[\"New key\"] = Value\n",
        "\n",
        "# Create empty dictionary\n",
        "dictionary = {}\n",
        "\n",
        "# Wipe dictionary\n",
        "dictionary = {}\n",
        "\n",
        "# Loop through a dictionary\n",
        "for key in dictionary:\n",
        "  dictionary[key]\n",
        "```\n",
        "\n",
        "### Nesting\n",
        "\n",
        "\n",
        "```\n",
        "{\n",
        "  Key: [List],\n",
        "  Key2: {Dict},\n",
        "}\n",
        "\n",
        "[\n",
        "  {\n",
        "    Key: [List],\n",
        "    Key2: {Dict},\n",
        "  },\n",
        "  {\n",
        "    Key: Value,\n",
        "    Key2: Value2,\n",
        "  }\n",
        "]\n",
        "```\n",
        "\n"
      ],
      "metadata": {
        "id": "IXGvPmTbBQMA"
      }
    },
    {
      "cell_type": "code",
      "execution_count": null,
      "metadata": {
        "id": "WHIy8ojTBPcZ"
      },
      "outputs": [],
      "source": []
    }
  ]
}