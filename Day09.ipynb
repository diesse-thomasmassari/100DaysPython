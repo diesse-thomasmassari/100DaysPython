{
  "nbformat": 4,
  "nbformat_minor": 0,
  "metadata": {
    "colab": {
      "provenance": [],
      "authorship_tag": "ABX9TyPaCd3BrHyIDLRVR2HMjNcs",
      "include_colab_link": true
    },
    "kernelspec": {
      "name": "python3",
      "display_name": "Python 3"
    },
    "language_info": {
      "name": "python"
    }
  },
  "cells": [
    {
      "cell_type": "markdown",
      "metadata": {
        "id": "view-in-github",
        "colab_type": "text"
      },
      "source": [
        "<a href=\"https://colab.research.google.com/github/diesse-thomasmassari/100DaysPython/blob/master/Day09.ipynb\" target=\"_parent\"><img src=\"https://colab.research.google.com/assets/colab-badge.svg\" alt=\"Open In Colab\"/></a>"
      ]
    },
    {
      "cell_type": "markdown",
      "source": [
        "# Day 9 - Beginner - Dictionaries, Nesting and the Secret Auction\n",
        "\n",
        "### Dictionary\n",
        "\n",
        "\n",
        "```\n",
        "dictionary = {\n",
        "  \"Key\": \"Value\",\n",
        "  \"Key2\": \"Value2\",\n",
        "}\n",
        "\n",
        "# Retrieve items from dictionary\n",
        "dictionary[\"Key\"]\n",
        "\n",
        "# Add new item to dictionary\n",
        "dictionary[\"New key\"] = Value\n",
        "\n",
        "# Create empty dictionary\n",
        "dictionary = {}\n",
        "\n",
        "# Wipe dictionary\n",
        "dictionary = {}\n",
        "\n",
        "# Loop through a dictionary\n",
        "for key in dictionary:\n",
        "  dictionary[key]\n",
        "```\n",
        "\n",
        "### Nesting\n",
        "\n",
        "\n",
        "```\n",
        "{\n",
        "  Key: [List],\n",
        "  Key2: {Dict},\n",
        "}\n",
        "\n",
        "[\n",
        "  {\n",
        "    Key: [List],\n",
        "    Key2: {Dict},\n",
        "  },\n",
        "  {\n",
        "    Key: Value,\n",
        "    Key2: Value2,\n",
        "  }\n",
        "]\n",
        "```\n",
        "\n"
      ],
      "metadata": {
        "id": "IXGvPmTbBQMA"
      }
    },
    {
      "cell_type": "markdown",
      "source": [
        "### Excercise"
      ],
      "metadata": {
        "id": "yFxd80vWPALV"
      }
    },
    {
      "cell_type": "code",
      "execution_count": 4,
      "metadata": {
        "id": "WHIy8ojTBPcZ",
        "outputId": "93edae49-8888-4ac5-a591-d4012bec9072",
        "colab": {
          "base_uri": "https://localhost:8080/"
        }
      },
      "outputs": [
        {
          "output_type": "stream",
          "name": "stdout",
          "text": [
            "[{'country': 'France', 'visits': 12, 'cities': ['Paris', 'Lille', 'Dijon']}, {'country': 'Germany', 'visits': 5, 'cities': ['Berlin', 'Hamburg', 'Stuttgart']}, {'country': 'Russia', 'visits': 2, 'cities': ['Moscow', 'Saint Petersburg']}]\n"
          ]
        }
      ],
      "source": [
        "travel_log = [\n",
        "{\n",
        "  \"country\": \"France\",\n",
        "  \"visits\": 12,\n",
        "  \"cities\": [\"Paris\", \"Lille\", \"Dijon\"]\n",
        "},\n",
        "{\n",
        "  \"country\": \"Germany\",\n",
        "  \"visits\": 5,\n",
        "  \"cities\": [\"Berlin\", \"Hamburg\", \"Stuttgart\"]\n",
        "},\n",
        "]\n",
        "#🚨 Do NOT change the code above\n",
        "\n",
        "#TODO: Write the function that will allow new countries\n",
        "#to be added to the travel_log. 👇\n",
        "\n",
        "def add_new_country(country, visits, cities):\n",
        "  travel_log.append({\n",
        "      \"country\": country,\n",
        "      \"visits\": visits,\n",
        "      \"cities\": cities\n",
        "  })\n",
        "\n",
        "\n",
        "\n",
        "#🚨 Do not change the code below\n",
        "add_new_country(\"Russia\", 2, [\"Moscow\", \"Saint Petersburg\"])\n",
        "print(travel_log)\n",
        "\n"
      ]
    },
    {
      "cell_type": "markdown",
      "source": [
        "### Final Project"
      ],
      "metadata": {
        "id": "0FfAz_yfQ8px"
      }
    },
    {
      "cell_type": "code",
      "source": [
        "logo = '''\n",
        "                         ___________\n",
        "                         \\         /\n",
        "                          )_______(\n",
        "                          |\"\"\"\"\"\"\"|_.-._,.---------.,_.-._\n",
        "                          |       | | |               | | ''-.\n",
        "                          |       |_| |_             _| |_..-'\n",
        "                          |_______| '-' `'---------'` '-'\n",
        "                          )\"\"\"\"\"\"\"(\n",
        "                         /_________\\\\\n",
        "                       .-------------.\n",
        "                      /_______________\\\\\n",
        "'''\n",
        "\n",
        "print(logo)\n",
        "\n",
        "bids = {}\n",
        "bidding_finished = False\n",
        "\n",
        "def find_highest_bidder(bidding_record):\n",
        "  highest_bid = 0\n",
        "  winner = \"\"\n",
        "  # bidding_record = {\"Angela\": 123, \"James\": 321}\n",
        "  for bidder in bidding_record:\n",
        "    bid_amount = bidding_record[bidder]\n",
        "    if bid_amount > highest_bid: \n",
        "      highest_bid = bid_amount\n",
        "      winner = bidder\n",
        "  print(f\"The winner is {winner} with a bid of ${highest_bid}\")\n",
        "\n",
        "while not bidding_finished:\n",
        "  name = input(\"What is your name?: \")\n",
        "  price = int(input(\"What is your bid?: $\"))\n",
        "  bids[name] = price\n",
        "  should_continue = input(\"Are there any other bidders? Type 'yes or 'no'.\\n\")\n",
        "  if should_continue == \"no\":\n",
        "    bidding_finished = True\n",
        "    find_highest_bidder(bids)\n",
        "  elif should_continue == \"yes\":\n",
        "    clear()\n",
        "\n"
      ],
      "metadata": {
        "id": "-Rg6Eyi8Q_D5",
        "outputId": "f1fecf30-bc6a-4097-b508-a2e0eef70b9a",
        "colab": {
          "base_uri": "https://localhost:8080/"
        }
      },
      "execution_count": null,
      "outputs": [
        {
          "name": "stdout",
          "output_type": "stream",
          "text": [
            "\n",
            "                         ___________\n",
            "                         \\         /\n",
            "                          )_______(\n",
            "                          |\"\"\"\"\"\"\"|_.-._,.---------.,_.-._\n",
            "                          |       | | |               | | ''-.\n",
            "                          |       |_| |_             _| |_..-'\n",
            "                          |_______| '-' `'---------'` '-'\n",
            "                          )\"\"\"\"\"\"\"(\n",
            "                         /_________\\\n",
            "                       .-------------.\n",
            "                      /_______________\\\n",
            "\n",
            "What is your name?thomas\n",
            "What is your bid? $12\n",
            "Are there any other bidders? Yes or No?yes\n"
          ]
        }
      ]
    }
  ]
}