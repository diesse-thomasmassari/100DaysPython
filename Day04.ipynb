{
  "nbformat": 4,
  "nbformat_minor": 0,
  "metadata": {
    "colab": {
      "provenance": [],
      "authorship_tag": "ABX9TyMMxCeAAm5+0eAmIa6Uo8ix",
      "include_colab_link": true
    },
    "kernelspec": {
      "name": "python3",
      "display_name": "Python 3"
    },
    "language_info": {
      "name": "python"
    }
  },
  "cells": [
    {
      "cell_type": "markdown",
      "metadata": {
        "id": "view-in-github",
        "colab_type": "text"
      },
      "source": [
        "<a href=\"https://colab.research.google.com/github/diesse-thomasmassari/100DaysPython/blob/master/Day04.ipynb\" target=\"_parent\"><img src=\"https://colab.research.google.com/assets/colab-badge.svg\" alt=\"Open In Colab\"/></a>"
      ]
    },
    {
      "cell_type": "markdown",
      "source": [
        "# Day 04 - Beginner - Randomisation and Python Lists"
      ],
      "metadata": {
        "id": "KW-zQ_iivdgL"
      }
    },
    {
      "cell_type": "markdown",
      "source": [
        "### Random module"
      ],
      "metadata": {
        "id": "FTVdYsCQpyEI"
      }
    },
    {
      "cell_type": "code",
      "execution_count": 5,
      "metadata": {
        "id": "LeX2GQzBvZJU",
        "outputId": "8bda16f9-8fae-4478-e40a-e3781b2f146e",
        "colab": {
          "base_uri": "https://localhost:8080/"
        }
      },
      "outputs": [
        {
          "output_type": "stream",
          "name": "stdout",
          "text": [
            "1\n",
            "4.5\n"
          ]
        }
      ],
      "source": [
        "import random\n",
        "from google.colab import files\n",
        "import prova\n",
        "\n",
        "random_integer = random.randint(1, 10)\n",
        "print(random_integer)\n",
        "random_float = random.random()\n",
        "\n",
        "print(prova.pi)"
      ]
    },
    {
      "cell_type": "markdown",
      "source": [
        "### Coin tosser"
      ],
      "metadata": {
        "id": "Jq_0hVU1arCT"
      }
    },
    {
      "cell_type": "code",
      "source": [
        "import random\n",
        "\n",
        "random_side = random.randint(0, 1)\n",
        "if random_side == 1:\n",
        "  print(\"Heads\")\n",
        "else:\n",
        "  print(\"Tails\")"
      ],
      "metadata": {
        "id": "tIMjrbj-aunC"
      },
      "execution_count": null,
      "outputs": []
    },
    {
      "cell_type": "markdown",
      "source": [
        "### List\n",
        "`list = [element1, ..., elementx]`\n",
        "list[-1] = ultimo elemento\n",
        "list.append() add 1 element\n",
        "list.extend() add more elements "
      ],
      "metadata": {
        "id": "BTJU6GhdbLVT"
      }
    }
  ]
}