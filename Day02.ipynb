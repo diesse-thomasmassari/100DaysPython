{
  "nbformat": 4,
  "nbformat_minor": 0,
  "metadata": {
    "colab": {
      "provenance": [],
      "collapsed_sections": [],
      "authorship_tag": "ABX9TyOfPmPunyB5jSMLVlWxuwz4",
      "include_colab_link": true
    },
    "kernelspec": {
      "name": "python3",
      "display_name": "Python 3"
    },
    "language_info": {
      "name": "python"
    }
  },
  "cells": [
    {
      "cell_type": "markdown",
      "metadata": {
        "id": "view-in-github",
        "colab_type": "text"
      },
      "source": [
        "<a href=\"https://colab.research.google.com/github/diesse-thomasmassari/100DaysPython/blob/master/Day02.ipynb\" target=\"_parent\"><img src=\"https://colab.research.google.com/assets/colab-badge.svg\" alt=\"Open In Colab\"/></a>"
      ]
    },
    {
      "cell_type": "code",
      "execution_count": 1,
      "metadata": {
        "id": "OZBFMJuxs3mu",
        "outputId": "23c18132-c366-4c52-e82f-efb1f7cadb70",
        "colab": {
          "base_uri": "https://localhost:8080/"
        }
      },
      "outputs": [
        {
          "output_type": "stream",
          "name": "stdout",
          "text": [
            "Ciao\n"
          ]
        }
      ],
      "source": [
        "print(\"Ciao\")"
      ]
    },
    {
      "cell_type": "markdown",
      "source": [
        "Questo è un testo"
      ],
      "metadata": {
        "id": "rPMds3Pux2sC"
      }
    },
    {
      "cell_type": "code",
      "source": [
        "print(\"CIAOOONE\")"
      ],
      "metadata": {
        "id": "qAPX8XCxzH-y"
      },
      "execution_count": null,
      "outputs": []
    }
  ]
}