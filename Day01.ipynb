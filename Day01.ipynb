{
  "nbformat": 4,
  "nbformat_minor": 0,
  "metadata": {
    "colab": {
      "provenance": [],
      "authorship_tag": "ABX9TyPFWOvUsOYdpp4DK8E1bbE0",
      "include_colab_link": true
    },
    "kernelspec": {
      "name": "python3",
      "display_name": "Python 3"
    },
    "language_info": {
      "name": "python"
    }
  },
  "cells": [
    {
      "cell_type": "markdown",
      "metadata": {
        "id": "view-in-github",
        "colab_type": "text"
      },
      "source": [
        "<a href=\"https://colab.research.google.com/github/diesse-thomasmassari/100DaysPython/blob/master/Day01.ipynb\" target=\"_parent\"><img src=\"https://colab.research.google.com/assets/colab-badge.svg\" alt=\"Open In Colab\"/></a>"
      ]
    },
    {
      "cell_type": "markdown",
      "source": [
        "# Day 1 - Beginner - Working with Variables in Python to Manage Data"
      ],
      "metadata": {
        "id": "IfT0xq5y3Dfv"
      }
    },
    {
      "cell_type": "markdown",
      "source": [
        "### String manipulation\n",
        "    "
      ],
      "metadata": {
        "id": "qAXmiv4G3XxQ"
      }
    },
    {
      "cell_type": "code",
      "execution_count": null,
      "metadata": {
        "id": "wqg3zw4P1J3i"
      },
      "outputs": [],
      "source": [
        "print(\"Hello world!\\n\")\n",
        "print(\"Hello \" + \"World!\")"
      ]
    },
    {
      "cell_type": "markdown",
      "source": [
        "\n",
        "### Input function\n",
        "    "
      ],
      "metadata": {
        "id": "49FoRaeT3zwN"
      }
    },
    {
      "cell_type": "code",
      "execution_count": null,
      "metadata": {
        "id": "uavjeOpR3zwS"
      },
      "outputs": [],
      "source": [
        "input(\"What is your name?\\n\")"
      ]
    },
    {
      "cell_type": "markdown",
      "source": [
        "\n",
        "### Exercise 1.3\n",
        "    "
      ],
      "metadata": {
        "id": "7GCPt4BJ3lWB"
      }
    },
    {
      "cell_type": "code",
      "execution_count": 1,
      "metadata": {
        "colab": {
          "base_uri": "https://localhost:8080/"
        },
        "id": "rSGmRyWO3lWE",
        "outputId": "d621b9f7-75d1-4c17-ea63-188d9dba0ecb"
      },
      "outputs": [
        {
          "output_type": "stream",
          "name": "stdout",
          "text": [
            "Inserisci una parola: Parolona\n",
            "La parola inserita è lunga: 8\n"
          ]
        }
      ],
      "source": [
        "word = input(\"Inserisci una parola: \")\n",
        "print(\"La parola inserita è lunga: \" + str(len(word)))"
      ]
    }
  ]
}