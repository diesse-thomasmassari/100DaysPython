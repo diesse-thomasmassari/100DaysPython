{
  "nbformat": 4,
  "nbformat_minor": 0,
  "metadata": {
    "colab": {
      "provenance": [],
      "authorship_tag": "ABX9TyPb6/AF3BoApBIccZRdRwDT",
      "include_colab_link": true
    },
    "kernelspec": {
      "name": "python3",
      "display_name": "Python 3"
    },
    "language_info": {
      "name": "python"
    }
  },
  "cells": [
    {
      "cell_type": "markdown",
      "metadata": {
        "id": "view-in-github",
        "colab_type": "text"
      },
      "source": [
        "<a href=\"https://colab.research.google.com/github/diesse-thomasmassari/100DaysPython/blob/master/Day03.ipynb\" target=\"_parent\"><img src=\"https://colab.research.google.com/assets/colab-badge.svg\" alt=\"Open In Colab\"/></a>"
      ]
    },
    {
      "cell_type": "markdown",
      "source": [
        "# Day 3 - Beginner - Control Flow and Logical Operators\n",
        "\n",
        "Comparison Operators:\n",
        "```\n",
        "> -> più grande\n",
        "< -> meno grande\n",
        ">= -> più grande o uguale\n",
        "<= -> meno grande o uguale\n",
        "== -> uguale\n",
        "!= -> diverso\n",
        "```\n",
        "\n",
        "Elif confition\n",
        "\n",
        "Multiple condition\n",
        "\n",
        "Logical operator:\n",
        "\n",
        "\n",
        "```\n",
        "and\n",
        "or\n",
        "not\n",
        "```\n",
        "\n",
        "\n",
        "\n"
      ],
      "metadata": {
        "id": "Dq2uqGmeQ_lR"
      }
    },
    {
      "cell_type": "markdown",
      "source": [
        "### Excercise"
      ],
      "metadata": {
        "id": "eAYFUTEDTz5Q"
      }
    },
    {
      "cell_type": "code",
      "source": [
        "# 🚨 Don't change the code below 👇\n",
        "number = int(input(\"Which number do you want to check? \"))\n",
        "# 🚨 Don't change the code above 👆\n",
        "\n",
        "#Write your code below this line 👇\n",
        "\n",
        "if number % 2 == 0:\n",
        "  print(f\"Even number\")\n",
        "else:\n",
        "  print(f\"Odd number\")"
      ],
      "metadata": {
        "id": "L0o5Fxu2T3bP",
        "outputId": "9e3bcd7b-51d0-4a67-a01b-25f8f7591082",
        "colab": {
          "base_uri": "https://localhost:8080/"
        }
      },
      "execution_count": null,
      "outputs": [
        {
          "output_type": "stream",
          "name": "stdout",
          "text": [
            "Which number do you want to check? 92\n",
            "Even number\n"
          ]
        }
      ]
    },
    {
      "cell_type": "markdown",
      "source": [
        "### Excercise"
      ],
      "metadata": {
        "id": "plx8c63p85YT"
      }
    },
    {
      "cell_type": "code",
      "source": [
        "# 🚨 Don't change the code below 👇\n",
        "height = float(input(\"enter your height in m: \"))\n",
        "weight = float(input(\"enter your weight in kg: \"))\n",
        "# 🚨 Don't change the code above 👆\n",
        "\n",
        "#Write your code below this line 👇\n",
        "BMI = round(weight / (height ** 2))\n",
        "\n",
        "\n",
        "if BMI < 18.5:\n",
        "  print(f\"{BMI} Underwight\")\n",
        "elif BMI < 25:\n",
        "  print(f\"{BMI} Normal\")\n",
        "elif BMI < 30:\n",
        "  print(f\"{BMI} Overweight\")\n",
        "elif BMI < 35:\n",
        "  print(f\"{BMI} Obese\")\n",
        "else:\n",
        "  print(f\"{BMI} Clinacally obese\")"
      ],
      "metadata": {
        "id": "vC76w0mr84n0",
        "outputId": "274a514c-23b5-47a6-e2b3-f41a4c5beece",
        "colab": {
          "base_uri": "https://localhost:8080/"
        }
      },
      "execution_count": null,
      "outputs": [
        {
          "output_type": "stream",
          "name": "stdout",
          "text": [
            "enter your height in m: 1.8\n",
            "enter your weight in kg: 80\n",
            "25 Overweight\n"
          ]
        }
      ]
    },
    {
      "cell_type": "markdown",
      "source": [
        "### Excercise"
      ],
      "metadata": {
        "id": "UCFuABMTgZwN"
      }
    },
    {
      "cell_type": "code",
      "source": [
        "# 🚨 Don't change the code below 👇\n",
        "year = int(input(\"Which year do you want to check? \"))\n",
        "# 🚨 Don't change the code above 👆\n",
        "\n",
        "#Write your code below this line 👇\n",
        "if year % 4 == 0:\n",
        "  if year % 100 == 0:\n",
        "    if year % 400 == 0:\n",
        "      print(\"Leap\")\n",
        "    else:\n",
        "      print(\"Non leap\")\n",
        "  else:\n",
        "    print(\"Leap\")\n",
        "else:\n",
        "  print(\"Non leap\")"
      ],
      "metadata": {
        "id": "EVFXn7WLgbnO",
        "outputId": "77e88ebe-6564-43c9-e3c5-6bb0c7ff2f67",
        "colab": {
          "base_uri": "https://localhost:8080/"
        }
      },
      "execution_count": 4,
      "outputs": [
        {
          "output_type": "stream",
          "name": "stdout",
          "text": [
            "Which year do you want to check? 1989\n",
            "Non leap\n"
          ]
        }
      ]
    },
    {
      "cell_type": "markdown",
      "source": [
        "### Excercise"
      ],
      "metadata": {
        "id": "Zc3GRlbYkrKP"
      }
    },
    {
      "cell_type": "code",
      "source": [
        "# 🚨 Don't change the code below 👇\n",
        "print(\"Welcome to Python Pizza Deliveries!\")\n",
        "size = input(\"What size pizza do you want? S, M, or L \")\n",
        "add_pepperoni = input(\"Do you want pepperoni? Y or N \")\n",
        "extra_cheese = input(\"Do you want extra cheese? Y or N \")\n",
        "# 🚨 Don't change the code above 👆\n",
        "\n",
        "#Write your code below this line 👇\n",
        "bill = 0\n",
        "if size == 'S':\n",
        "  bill += 15\n",
        "  if add_pepperoni == 'Y':\n",
        "    bill += 2\n",
        "elif size == 'M':\n",
        "  bill += 20\n",
        "  if add_pepperoni == 'Y':\n",
        "    bill += 3\n",
        "elif size == 'L':\n",
        "  bill += 25\n",
        "  if add_pepperoni == 'Y':\n",
        "    bill += 3\n",
        "\n",
        "if extra_cheese == 'Y':\n",
        "  bill += 1\n",
        "\n",
        "print(f\"Bill is {bill}\")"
      ],
      "metadata": {
        "id": "Xt4-pFKMkqRu",
        "outputId": "afa2bb32-deea-4304-de86-40de61329cfc",
        "colab": {
          "base_uri": "https://localhost:8080/"
        }
      },
      "execution_count": 5,
      "outputs": [
        {
          "output_type": "stream",
          "name": "stdout",
          "text": [
            "Welcome to Python Pizza Deliveries!\n",
            "What size pizza do you want? S, M, or L L\n",
            "Do you want pepperoni? Y or N Y\n",
            "Do you want extra cheese? Y or N N\n",
            "Bill is 28\n"
          ]
        }
      ]
    },
    {
      "cell_type": "markdown",
      "source": [
        "### Excercise"
      ],
      "metadata": {
        "id": "DUDri3lLppjA"
      }
    },
    {
      "cell_type": "code",
      "source": [
        "# 🚨 Don't change the code below 👇\n",
        "print(\"Welcome to the Love Calculator!\")\n",
        "name1 = input(\"What is your name? \\n\")\n",
        "name2 = input(\"What is their name? \\n\")\n",
        "# 🚨 Don't change the code above 👆\n",
        "\n",
        "#Write your code below this line 👇\n",
        "name1 = name1.lower()\n",
        "name2 = name2.lower()\n",
        "\n",
        "name = name1 + name2\n",
        "\n",
        "firstdigit = 0\n",
        "seconddigit = 0\n",
        "\n",
        "firstdigit += name.count(\"t\")\n",
        "firstdigit += name.count(\"r\")\n",
        "firstdigit += name.count(\"u\")\n",
        "firstdigit += name.count(\"e\")\n",
        "seconddigit += name.count(\"l\")\n",
        "seconddigit += name.count(\"o\")\n",
        "seconddigit += name.count(\"v\")\n",
        "seconddigit += name.count(\"e\")\n",
        "\n",
        "score = int(str(firstdigit) + str(seconddigit))\n",
        "\n",
        "if score < 10 or score > 90:\n",
        "  print(f\"Your score is {score}, you go together like coke and mentos.\")\n",
        "elif score > 40 and score < 50:\n",
        "  print(f\"Your score is {score},  you are alright together.\")\n",
        "else:\n",
        "  print(f\"Your score is {score}\")\n"
      ],
      "metadata": {
        "id": "SQGk_cSwpp7g",
        "outputId": "2e9e2578-fc74-4087-9f49-665f2387fc9f",
        "colab": {
          "base_uri": "https://localhost:8080/"
        }
      },
      "execution_count": 12,
      "outputs": [
        {
          "output_type": "stream",
          "name": "stdout",
          "text": [
            "Welcome to the Love Calculator!\n",
            "What is your name? \n",
            "Thomas Massari\n",
            "What is their name? \n",
            "Francesca Spazzali\n",
            "Your score is 43,  you are alright together.\n"
          ]
        }
      ]
    },
    {
      "cell_type": "markdown",
      "source": [
        "### Final Project"
      ],
      "metadata": {
        "id": "Z4uKup-8tOBx"
      }
    },
    {
      "cell_type": "code",
      "source": [
        "print('''\n",
        "*******************************************************************************\n",
        "          |                   |                  |                     |\n",
        " _________|________________.=\"\"_;=.______________|_____________________|_______\n",
        "|                   |  ,-\"_,=\"\"     `\"=.|                  |\n",
        "|___________________|__\"=._o`\"-._        `\"=.______________|___________________\n",
        "          |                `\"=._o`\"=._      _`\"=._                     |\n",
        " _________|_____________________:=._o \"=._.\"_.-=\"'\"=.__________________|_______\n",
        "|                   |    __.--\" , ; `\"=._o.\" ,-\"\"\"-._ \".   |\n",
        "|___________________|_._\"  ,. .` ` `` ,  `\"-._\"-._   \". '__|___________________\n",
        "          |           |o`\"=._` , \"` `; .\". ,  \"-._\"-._; ;              |\n",
        " _________|___________| ;`-.o`\"=._; .\" ` '`.\"\\` . \"-._ /_______________|_______\n",
        "|                   | |o;    `\"-.o`\"=._``  '` \" ,__.--o;   |\n",
        "|___________________|_| ;     (#) `-.o `\"=.`_.--\"_o.-; ;___|___________________\n",
        "____/______/______/___|o;._    \"      `\".o|o_.--\"    ;o;____/______/______/____\n",
        "/______/______/______/_\"=._o--._        ; | ;        ; ;/______/______/______/_\n",
        "____/______/______/______/__\"=._o--._   ;o|o;     _._;o;____/______/______/____\n",
        "/______/______/______/______/____\"=._o._; | ;_.--\"o.--\"_/______/______/______/_\n",
        "____/______/______/______/______/_____\"=.o|o_.--\"\"___/______/______/______/____\n",
        "/______/______/______/______/______/______/______/______/______/______/_____ /\n",
        "*******************************************************************************\n",
        "''')\n",
        "print(\"Welcome to Treasure Island.\")\n",
        "print(\"Your mission is to find the treasure.\") \n",
        "\n",
        "#https://www.draw.io/?lightbox=1&highlight=0000ff&edit=_blank&layers=1&nav=1&title=Treasure%20Island%20Conditional.drawio#Uhttps%3A%2F%2Fdrive.google.com%2Fuc%3Fid%3D1oDe4ehjWZipYRsVfeAx2HyB7LCQ8_Fvi%26export%3Ddownload\n",
        "\n",
        "#Write your code below this line 👇\n",
        "choice1 = input('You\\'re at a cross road. Where do you want to go? Type \"left\" or \"right\" \\n').lower()\n",
        "if choice1 == \"left\":\n",
        "  choice2 = input('You\\'ve come to a lake. There is an island in the middle of the lake. Type \"wait\" to wait for a boat. Type \"swim\" to swim across. \\n').lower()\n",
        "  if choice2 == \"wait\":\n",
        "    choice3 = input(\"You arrive at the island unharmed. There is a house with 3 doors. One red, one yellow and one blue. Which colour do you choose? \\n\").lower()\n",
        "    if choice3 == \"red\":\n",
        "      print(\"It's a room full of fire. Game Over.\")\n",
        "    elif choice3 == \"yellow\":\n",
        "      print(\"You found the treasure! You Win!\")\n",
        "    elif choice3 == \"blue\":\n",
        "      print(\"You enter a room of beasts. Game Over.\")\n",
        "    else:\n",
        "      print(\"You chose a door that doesn't exist. Game Over.\")\n",
        "  else:\n",
        "    print(\"You get attacked by an angry trout. Game Over.\")\n",
        "else:\n",
        "  print(\"You fell into a hole. Game Over.\")\n"
      ],
      "metadata": {
        "id": "MlC8ENDbtQhA",
        "outputId": "7f1610b6-27b2-424e-bdd5-30eb75c52ba9",
        "colab": {
          "base_uri": "https://localhost:8080/"
        }
      },
      "execution_count": 13,
      "outputs": [
        {
          "output_type": "stream",
          "name": "stdout",
          "text": [
            "\n",
            "*******************************************************************************\n",
            "          |                   |                  |                     |\n",
            " _________|________________.=\"\"_;=.______________|_____________________|_______\n",
            "|                   |  ,-\"_,=\"\"     `\"=.|                  |\n",
            "|___________________|__\"=._o`\"-._        `\"=.______________|___________________\n",
            "          |                `\"=._o`\"=._      _`\"=._                     |\n",
            " _________|_____________________:=._o \"=._.\"_.-=\"'\"=.__________________|_______\n",
            "|                   |    __.--\" , ; `\"=._o.\" ,-\"\"\"-._ \".   |\n",
            "|___________________|_._\"  ,. .` ` `` ,  `\"-._\"-._   \". '__|___________________\n",
            "          |           |o`\"=._` , \"` `; .\". ,  \"-._\"-._; ;              |\n",
            " _________|___________| ;`-.o`\"=._; .\" ` '`.\"\\` . \"-._ /_______________|_______\n",
            "|                   | |o;    `\"-.o`\"=._``  '` \" ,__.--o;   |\n",
            "|___________________|_| ;     (#) `-.o `\"=.`_.--\"_o.-; ;___|___________________\n",
            "____/______/______/___|o;._    \"      `\".o|o_.--\"    ;o;____/______/______/____\n",
            "/______/______/______/_\"=._o--._        ; | ;        ; ;/______/______/______/_\n",
            "____/______/______/______/__\"=._o--._   ;o|o;     _._;o;____/______/______/____\n",
            "/______/______/______/______/____\"=._o._; | ;_.--\"o.--\"_/______/______/______/_\n",
            "____/______/______/______/______/_____\"=.o|o_.--\"\"___/______/______/______/____\n",
            "/______/______/______/______/______/______/______/______/______/______/_____ /\n",
            "*******************************************************************************\n",
            "\n",
            "Welcome to Treasure Island.\n",
            "Your mission is to find the treasure.\n"
          ]
        }
      ]
    }
  ]
}