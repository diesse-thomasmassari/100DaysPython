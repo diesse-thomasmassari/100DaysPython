{
  "nbformat": 4,
  "nbformat_minor": 0,
  "metadata": {
    "colab": {
      "provenance": [],
      "authorship_tag": "ABX9TyMgDj72nHHvdcmpYYdNUOlq",
      "include_colab_link": true
    },
    "kernelspec": {
      "name": "python3",
      "display_name": "Python 3"
    },
    "language_info": {
      "name": "python"
    }
  },
  "cells": [
    {
      "cell_type": "markdown",
      "metadata": {
        "id": "view-in-github",
        "colab_type": "text"
      },
      "source": [
        "<a href=\"https://colab.research.google.com/github/diesse-thomasmassari/100DaysPython/blob/master/Day03.ipynb\" target=\"_parent\"><img src=\"https://colab.research.google.com/assets/colab-badge.svg\" alt=\"Open In Colab\"/></a>"
      ]
    },
    {
      "cell_type": "markdown",
      "source": [
        "# Day 3 - Beginner - Control Flow and Logical Operators"
      ],
      "metadata": {
        "id": "Dq2uqGmeQ_lR"
      }
    },
    {
      "cell_type": "markdown",
      "source": [
        "### Excercise"
      ],
      "metadata": {
        "id": "eAYFUTEDTz5Q"
      }
    },
    {
      "cell_type": "code",
      "source": [
        "# 🚨 Don't change the code below 👇\n",
        "number = int(input(\"Which number do you want to check? \"))\n",
        "# 🚨 Don't change the code above 👆\n",
        "\n",
        "#Write your code below this line 👇\n",
        "\n",
        "if number % 2 == 0:\n",
        "  print(f\"Even number\")\n",
        "else:\n",
        "  print(f\"Odd number\")"
      ],
      "metadata": {
        "id": "L0o5Fxu2T3bP",
        "outputId": "9e3bcd7b-51d0-4a67-a01b-25f8f7591082",
        "colab": {
          "base_uri": "https://localhost:8080/"
        }
      },
      "execution_count": 2,
      "outputs": [
        {
          "output_type": "stream",
          "name": "stdout",
          "text": [
            "Which number do you want to check? 92\n",
            "Even number\n"
          ]
        }
      ]
    }
  ]
}